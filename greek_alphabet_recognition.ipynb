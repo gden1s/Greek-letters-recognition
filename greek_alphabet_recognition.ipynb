{
 "cells": [
  {
   "cell_type": "markdown",
   "metadata": {},
   "source": [
    "# Распознавание букв греческого алфавита методом k-ближайших соседей."
   ]
  },
  {
   "cell_type": "markdown",
   "metadata": {},
   "source": [
    "Импортируем необходимые библиотеки и модули."
   ]
  },
  {
   "cell_type": "code",
   "execution_count": 1,
   "metadata": {},
   "outputs": [],
   "source": [
    "import pandas as pd  # для работы с csv\n",
    "import numpy as np\n",
    "import random\n",
    "\n",
    "from sklearn.preprocessing import StandardScaler  # для нормирования признаков модели\n",
    "from sklearn.neighbors import KNeighborsClassifier  # классификатор на базе метода k-nears\n",
    "from sklearn.metrics import accuracy_score, confusion_matrix  # доля правильных ответов и матрица несоответствий\n",
    "from sklearn.model_selection import GridSearchCV  # для подбора оптимальных параметров\n",
    "\n",
    "from matplotlib import pyplot as plt\n",
    "%matplotlib inline"
   ]
  },
  {
   "cell_type": "markdown",
   "metadata": {},
   "source": [
    "### 0. Предобработка данных датасета"
   ]
  },
  {
   "cell_type": "markdown",
   "metadata": {},
   "source": [
    "Откроем обучающую выборку (https://www.kaggle.com/katianakontolati/classification-of-handwritten-greek-letters) букв греческого алфавита. Помимо необходимых нам 10 конкретных букв, датасет содержит и другие греческие буквы. В этой связи, в дальнейшем будет необходимо исключить из выборки лишние данные."
   ]
  },
  {
   "cell_type": "code",
   "execution_count": 2,
   "metadata": {},
   "outputs": [],
   "source": [
    "# путь до обучающей выборки\n",
    "path = 'train.csv'"
   ]
  },
  {
   "cell_type": "code",
   "execution_count": 3,
   "metadata": {},
   "outputs": [
    {
     "name": "stdout",
     "output_type": "stream",
     "text": [
      "Размер исходной выборки: 240\n"
     ]
    },
    {
     "data": {
      "text/html": [
       "<div>\n",
       "<style scoped>\n",
       "    .dataframe tbody tr th:only-of-type {\n",
       "        vertical-align: middle;\n",
       "    }\n",
       "\n",
       "    .dataframe tbody tr th {\n",
       "        vertical-align: top;\n",
       "    }\n",
       "\n",
       "    .dataframe thead th {\n",
       "        text-align: right;\n",
       "    }\n",
       "</style>\n",
       "<table border=\"1\" class=\"dataframe\">\n",
       "  <thead>\n",
       "    <tr style=\"text-align: right;\">\n",
       "      <th></th>\n",
       "      <th>0</th>\n",
       "      <th>1</th>\n",
       "      <th>2</th>\n",
       "      <th>3</th>\n",
       "      <th>4</th>\n",
       "      <th>5</th>\n",
       "      <th>6</th>\n",
       "      <th>7</th>\n",
       "      <th>8</th>\n",
       "      <th>9</th>\n",
       "      <th>...</th>\n",
       "      <th>187</th>\n",
       "      <th>188</th>\n",
       "      <th>189</th>\n",
       "      <th>190</th>\n",
       "      <th>191</th>\n",
       "      <th>192</th>\n",
       "      <th>193</th>\n",
       "      <th>194</th>\n",
       "      <th>195</th>\n",
       "      <th>196</th>\n",
       "    </tr>\n",
       "  </thead>\n",
       "  <tbody>\n",
       "    <tr>\n",
       "      <th>0</th>\n",
       "      <td>255.0</td>\n",
       "      <td>247.0</td>\n",
       "      <td>251.0</td>\n",
       "      <td>255.0</td>\n",
       "      <td>249.0</td>\n",
       "      <td>255.0</td>\n",
       "      <td>245.0</td>\n",
       "      <td>254.0</td>\n",
       "      <td>254.0</td>\n",
       "      <td>254.0</td>\n",
       "      <td>...</td>\n",
       "      <td>255.0</td>\n",
       "      <td>253.0</td>\n",
       "      <td>254.0</td>\n",
       "      <td>255.0</td>\n",
       "      <td>255.0</td>\n",
       "      <td>245.0</td>\n",
       "      <td>255.0</td>\n",
       "      <td>238.0</td>\n",
       "      <td>255.0</td>\n",
       "      <td>1.0</td>\n",
       "    </tr>\n",
       "    <tr>\n",
       "      <th>1</th>\n",
       "      <td>252.0</td>\n",
       "      <td>255.0</td>\n",
       "      <td>249.0</td>\n",
       "      <td>254.0</td>\n",
       "      <td>253.0</td>\n",
       "      <td>255.0</td>\n",
       "      <td>255.0</td>\n",
       "      <td>247.0</td>\n",
       "      <td>254.0</td>\n",
       "      <td>255.0</td>\n",
       "      <td>...</td>\n",
       "      <td>241.0</td>\n",
       "      <td>255.0</td>\n",
       "      <td>253.0</td>\n",
       "      <td>248.0</td>\n",
       "      <td>255.0</td>\n",
       "      <td>255.0</td>\n",
       "      <td>255.0</td>\n",
       "      <td>255.0</td>\n",
       "      <td>234.0</td>\n",
       "      <td>1.0</td>\n",
       "    </tr>\n",
       "    <tr>\n",
       "      <th>2</th>\n",
       "      <td>244.0</td>\n",
       "      <td>255.0</td>\n",
       "      <td>253.0</td>\n",
       "      <td>246.0</td>\n",
       "      <td>255.0</td>\n",
       "      <td>248.0</td>\n",
       "      <td>255.0</td>\n",
       "      <td>249.0</td>\n",
       "      <td>251.0</td>\n",
       "      <td>249.0</td>\n",
       "      <td>...</td>\n",
       "      <td>255.0</td>\n",
       "      <td>255.0</td>\n",
       "      <td>255.0</td>\n",
       "      <td>255.0</td>\n",
       "      <td>239.0</td>\n",
       "      <td>255.0</td>\n",
       "      <td>255.0</td>\n",
       "      <td>252.0</td>\n",
       "      <td>255.0</td>\n",
       "      <td>1.0</td>\n",
       "    </tr>\n",
       "    <tr>\n",
       "      <th>3</th>\n",
       "      <td>255.0</td>\n",
       "      <td>246.0</td>\n",
       "      <td>255.0</td>\n",
       "      <td>246.0</td>\n",
       "      <td>255.0</td>\n",
       "      <td>255.0</td>\n",
       "      <td>243.0</td>\n",
       "      <td>255.0</td>\n",
       "      <td>255.0</td>\n",
       "      <td>233.0</td>\n",
       "      <td>...</td>\n",
       "      <td>247.0</td>\n",
       "      <td>255.0</td>\n",
       "      <td>247.0</td>\n",
       "      <td>246.0</td>\n",
       "      <td>248.0</td>\n",
       "      <td>255.0</td>\n",
       "      <td>255.0</td>\n",
       "      <td>243.0</td>\n",
       "      <td>247.0</td>\n",
       "      <td>1.0</td>\n",
       "    </tr>\n",
       "    <tr>\n",
       "      <th>4</th>\n",
       "      <td>251.0</td>\n",
       "      <td>255.0</td>\n",
       "      <td>255.0</td>\n",
       "      <td>249.0</td>\n",
       "      <td>255.0</td>\n",
       "      <td>255.0</td>\n",
       "      <td>249.0</td>\n",
       "      <td>251.0</td>\n",
       "      <td>254.0</td>\n",
       "      <td>255.0</td>\n",
       "      <td>...</td>\n",
       "      <td>255.0</td>\n",
       "      <td>235.0</td>\n",
       "      <td>255.0</td>\n",
       "      <td>245.0</td>\n",
       "      <td>255.0</td>\n",
       "      <td>248.0</td>\n",
       "      <td>255.0</td>\n",
       "      <td>255.0</td>\n",
       "      <td>240.0</td>\n",
       "      <td>1.0</td>\n",
       "    </tr>\n",
       "  </tbody>\n",
       "</table>\n",
       "<p>5 rows × 197 columns</p>\n",
       "</div>"
      ],
      "text/plain": [
       "     0      1      2      3      4      5      6      7      8      9    ...  \\\n",
       "0  255.0  247.0  251.0  255.0  249.0  255.0  245.0  254.0  254.0  254.0  ...   \n",
       "1  252.0  255.0  249.0  254.0  253.0  255.0  255.0  247.0  254.0  255.0  ...   \n",
       "2  244.0  255.0  253.0  246.0  255.0  248.0  255.0  249.0  251.0  249.0  ...   \n",
       "3  255.0  246.0  255.0  246.0  255.0  255.0  243.0  255.0  255.0  233.0  ...   \n",
       "4  251.0  255.0  255.0  249.0  255.0  255.0  249.0  251.0  254.0  255.0  ...   \n",
       "\n",
       "     187    188    189    190    191    192    193    194    195  196  \n",
       "0  255.0  253.0  254.0  255.0  255.0  245.0  255.0  238.0  255.0  1.0  \n",
       "1  241.0  255.0  253.0  248.0  255.0  255.0  255.0  255.0  234.0  1.0  \n",
       "2  255.0  255.0  255.0  255.0  239.0  255.0  255.0  252.0  255.0  1.0  \n",
       "3  247.0  255.0  247.0  246.0  248.0  255.0  255.0  243.0  247.0  1.0  \n",
       "4  255.0  235.0  255.0  245.0  255.0  248.0  255.0  255.0  240.0  1.0  \n",
       "\n",
       "[5 rows x 197 columns]"
      ]
     },
     "execution_count": 3,
     "metadata": {},
     "output_type": "execute_result"
    }
   ],
   "source": [
    "# попробуем открыть выборку в виде дата-фрейма\n",
    "train_df = pd.read_csv(path, header=None)\n",
    "print('Размер исходной выборки:', train_df.shape[0])\n",
    "train_df.head()"
   ]
  },
  {
   "cell_type": "markdown",
   "metadata": {},
   "source": [
    "Как можно заметить из представленной таблицы, каждая картинка кодируется матрицей размера 14 на 14 пикселей, для удобства переведенной в строку. После столбец таблицы отвечает за номер класса, к которому данная буква принадлежит, в соответствие со следующим правилом:\n",
    "\n",
    "α ~ 1, β ~ 2, γ ~ 3, δ ~ 4, ε ~ 5, θ ~ 8, κ ~ 10, ρ ~ 17, χ ~ 22, ω ~ 24.\n",
    "\n",
    "Нумерация идет непоследовательно в силу присутствия в выборке других букв греческого алфавита. После удаления последних пронумеруем буквы в соответствие с указанным списком от 0 до 9."
   ]
  },
  {
   "cell_type": "code",
   "execution_count": 4,
   "metadata": {},
   "outputs": [
    {
     "name": "stdout",
     "output_type": "stream",
     "text": [
      "Размер преобразованной выборки: (100, 196)\n",
      "Вид матрицы объектов-признаков:\n",
      "\n",
      "[[255. 247. 251. ... 255. 238. 255.]\n",
      " [252. 255. 249. ... 255. 255. 234.]\n",
      " [244. 255. 253. ... 255. 252. 255.]\n",
      " ...\n",
      " [251. 255. 255. ... 255. 247. 255.]\n",
      " [255. 255. 250. ... 253. 253. 255.]\n",
      " [249. 253. 255. ... 255. 255. 255.]]\n"
     ]
    }
   ],
   "source": [
    "# преобразуем последний столбец к целочисленному типу\n",
    "train_df = train_df.astype({196: int})\n",
    "\n",
    "# перечислим метки тех букв, которые не нужны в дальнейшем\n",
    "useless_labels = [6, 7, 9, 11, 12, 13, 14, 15, 16, 18, 19, 20, 21, 23]\n",
    "\n",
    "# удалим их\n",
    "for lbl in useless_labels:\n",
    "    train_df.drop(train_df[train_df[196] == lbl].index, inplace=True)\n",
    "    \n",
    "# выделим матрицу объектов-признаков\n",
    "train = np.array(train_df.iloc[:, 0:196])\n",
    "print('Размер преобразованной выборки:', train.shape)\n",
    "print('Вид матрицы объектов-признаков:', train, sep='\\n\\n')"
   ]
  },
  {
   "cell_type": "code",
   "execution_count": 5,
   "metadata": {},
   "outputs": [
    {
     "name": "stdout",
     "output_type": "stream",
     "text": [
      "Размер целевого вектора: (100,)\n",
      "Вид вектора целевых меток:\n",
      "\n",
      "[0 0 0 0 0 0 0 0 0 0 1 1 1 1 1 1 1 1 1 1 2 2 2 2 2 2 2 2 2 2 3 3 3 3 3 3 3\n",
      " 3 3 3 4 4 4 4 4 4 4 4 4 4 5 5 5 5 5 5 5 5 5 5 6 6 6 6 6 6 6 6 6 6 7 7 7 7\n",
      " 7 7 7 7 7 7 8 8 8 8 8 8 8 8 8 8 9 9 9 9 9 9 9 9 9 9]\n"
     ]
    }
   ],
   "source": [
    "# выделим вектор целевых меток\n",
    "labels = np.array(train_df.iloc[:, 196])\n",
    "print('Размер целевого вектора:', labels.shape)\n",
    "\n",
    "# перенумеруем метки вектора целевых меток от 0 до 9\n",
    "lbl_dict = dict(zip(sorted(list(set(range(1, 25)) - set(useless_labels))), range(10)))\n",
    "for i in range(len(labels)):\n",
    "    labels[i] = lbl_dict[labels[i]]\n",
    "print('Вид вектора целевых меток:', labels, sep='\\n\\n')"
   ]
  },
  {
   "cell_type": "markdown",
   "metadata": {},
   "source": [
    "В соответствие с проделанными выкладками, справедливы следующие обозначения:\n",
    "- α ~ 0,\n",
    "- β ~ 1,\n",
    "- γ ~ 2,\n",
    "- δ ~ 3,\n",
    "- ε ~ 4,\n",
    "- θ ~ 5,\n",
    "- κ ~ 6,\n",
    "- ρ ~ 7,\n",
    "- χ ~ 8,\n",
    "- ω ~ 9."
   ]
  },
  {
   "cell_type": "code",
   "execution_count": 6,
   "metadata": {},
   "outputs": [],
   "source": [
    "num2greek = {0: 'α', 1: 'β', 2: 'γ', 3: 'δ', 4: 'ε', 5: 'θ', 6: 'κ', 7: 'ρ', 8: 'χ', 9: 'ω'}"
   ]
  },
  {
   "cell_type": "markdown",
   "metadata": {},
   "source": [
    "Проверим, как выглядит произвольная цифра из нашей выборки и совпадает ли она с целевой меткой."
   ]
  },
  {
   "cell_type": "code",
   "execution_count": 8,
   "metadata": {
    "scrolled": false
   },
   "outputs": [
    {
     "name": "stdout",
     "output_type": "stream",
     "text": [
      "Изображение буквы α номер под номером 8 в выборке:\n"
     ]
    },
    {
     "data": {
      "image/png": "[encoded data removed]",
      "text/plain": [
       "<Figure size 432x288 with 1 Axes>"
      ]
     },
     "metadata": {
      "needs_background": "light"
     },
     "output_type": "display_data"
    }
   ],
   "source": [
    "def show_rand_greek():\n",
    "    r = random.randint(0, len(labels) - 1)\n",
    "    print('Изображение буквы {} номер под номером {} в выборке:'.format(num2greek[labels[r]], r))\n",
    "    plt.imshow(train[r].reshape(14, 14), cmap='gray')\n",
    "    plt.show()\n",
    "    \n",
    "\n",
    "show_rand_greek()"
   ]
  },
  {
   "cell_type": "markdown",
   "metadata": {},
   "source": [
    "Заметим, что пиксели, соответствующие букве имеют почти нулевую яркость, а остальной фон максимальную. Чтобы это исправить преобразуем матрицу, кроме того нормализуем её для дальнейшей работы алгоритма классификации."
   ]
  },
  {
   "cell_type": "code",
   "execution_count": 9,
   "metadata": {},
   "outputs": [],
   "source": [
    "# преобразуем выборку (ОСТОРОЖНО! если запустить блок снова, то выборка преобразуется обратно)\n",
    "train = np.abs((train - 255) / (-255))"
   ]
  },
  {
   "cell_type": "code",
   "execution_count": 10,
   "metadata": {},
   "outputs": [
    {
     "name": "stdout",
     "output_type": "stream",
     "text": [
      "Изображение буквы χ номер под номером 80 в выборке:\n"
     ]
    },
    {
     "data": {
      "image/png": "[encoded data removed]",
      "text/plain": [
       "<Figure size 432x288 with 1 Axes>"
      ]
     },
     "metadata": {
      "needs_background": "light"
     },
     "output_type": "display_data"
    }
   ],
   "source": [
    "# проверяем\n",
    "show_rand_greek()"
   ]
  },
  {
   "cell_type": "markdown",
   "metadata": {},
   "source": [
    "Теперь аналогичные действия проделаем с отложенной тестовой выборкой."
   ]
  },
  {
   "cell_type": "code",
   "execution_count": 11,
   "metadata": {},
   "outputs": [
    {
     "name": "stdout",
     "output_type": "stream",
     "text": [
      "Размер исходной тестовой выборки: 96\n"
     ]
    },
    {
     "data": {
      "text/html": [
       "<div>\n",
       "<style scoped>\n",
       "    .dataframe tbody tr th:only-of-type {\n",
       "        vertical-align: middle;\n",
       "    }\n",
       "\n",
       "    .dataframe tbody tr th {\n",
       "        vertical-align: top;\n",
       "    }\n",
       "\n",
       "    .dataframe thead th {\n",
       "        text-align: right;\n",
       "    }\n",
       "</style>\n",
       "<table border=\"1\" class=\"dataframe\">\n",
       "  <thead>\n",
       "    <tr style=\"text-align: right;\">\n",
       "      <th></th>\n",
       "      <th>0</th>\n",
       "      <th>1</th>\n",
       "      <th>2</th>\n",
       "      <th>3</th>\n",
       "      <th>4</th>\n",
       "      <th>5</th>\n",
       "      <th>6</th>\n",
       "      <th>7</th>\n",
       "      <th>8</th>\n",
       "      <th>9</th>\n",
       "      <th>...</th>\n",
       "      <th>187</th>\n",
       "      <th>188</th>\n",
       "      <th>189</th>\n",
       "      <th>190</th>\n",
       "      <th>191</th>\n",
       "      <th>192</th>\n",
       "      <th>193</th>\n",
       "      <th>194</th>\n",
       "      <th>195</th>\n",
       "      <th>196</th>\n",
       "    </tr>\n",
       "  </thead>\n",
       "  <tbody>\n",
       "    <tr>\n",
       "      <th>0</th>\n",
       "      <td>253.0</td>\n",
       "      <td>255.0</td>\n",
       "      <td>255.0</td>\n",
       "      <td>251.0</td>\n",
       "      <td>244.0</td>\n",
       "      <td>255.0</td>\n",
       "      <td>254.0</td>\n",
       "      <td>253.0</td>\n",
       "      <td>248.0</td>\n",
       "      <td>255.0</td>\n",
       "      <td>...</td>\n",
       "      <td>255.0</td>\n",
       "      <td>247.0</td>\n",
       "      <td>255.0</td>\n",
       "      <td>255.0</td>\n",
       "      <td>251.0</td>\n",
       "      <td>249.0</td>\n",
       "      <td>255.0</td>\n",
       "      <td>254.0</td>\n",
       "      <td>237.0</td>\n",
       "      <td>1.0</td>\n",
       "    </tr>\n",
       "    <tr>\n",
       "      <th>1</th>\n",
       "      <td>248.0</td>\n",
       "      <td>255.0</td>\n",
       "      <td>245.0</td>\n",
       "      <td>255.0</td>\n",
       "      <td>255.0</td>\n",
       "      <td>247.0</td>\n",
       "      <td>255.0</td>\n",
       "      <td>247.0</td>\n",
       "      <td>255.0</td>\n",
       "      <td>236.0</td>\n",
       "      <td>...</td>\n",
       "      <td>252.0</td>\n",
       "      <td>255.0</td>\n",
       "      <td>247.0</td>\n",
       "      <td>240.0</td>\n",
       "      <td>255.0</td>\n",
       "      <td>253.0</td>\n",
       "      <td>240.0</td>\n",
       "      <td>255.0</td>\n",
       "      <td>241.0</td>\n",
       "      <td>1.0</td>\n",
       "    </tr>\n",
       "    <tr>\n",
       "      <th>2</th>\n",
       "      <td>255.0</td>\n",
       "      <td>255.0</td>\n",
       "      <td>254.0</td>\n",
       "      <td>255.0</td>\n",
       "      <td>252.0</td>\n",
       "      <td>242.0</td>\n",
       "      <td>255.0</td>\n",
       "      <td>245.0</td>\n",
       "      <td>244.0</td>\n",
       "      <td>255.0</td>\n",
       "      <td>...</td>\n",
       "      <td>255.0</td>\n",
       "      <td>251.0</td>\n",
       "      <td>251.0</td>\n",
       "      <td>255.0</td>\n",
       "      <td>255.0</td>\n",
       "      <td>253.0</td>\n",
       "      <td>251.0</td>\n",
       "      <td>249.0</td>\n",
       "      <td>255.0</td>\n",
       "      <td>1.0</td>\n",
       "    </tr>\n",
       "    <tr>\n",
       "      <th>3</th>\n",
       "      <td>255.0</td>\n",
       "      <td>249.0</td>\n",
       "      <td>252.0</td>\n",
       "      <td>248.0</td>\n",
       "      <td>254.0</td>\n",
       "      <td>255.0</td>\n",
       "      <td>246.0</td>\n",
       "      <td>252.0</td>\n",
       "      <td>244.0</td>\n",
       "      <td>255.0</td>\n",
       "      <td>...</td>\n",
       "      <td>255.0</td>\n",
       "      <td>233.0</td>\n",
       "      <td>246.0</td>\n",
       "      <td>252.0</td>\n",
       "      <td>249.0</td>\n",
       "      <td>255.0</td>\n",
       "      <td>254.0</td>\n",
       "      <td>241.0</td>\n",
       "      <td>255.0</td>\n",
       "      <td>1.0</td>\n",
       "    </tr>\n",
       "    <tr>\n",
       "      <th>4</th>\n",
       "      <td>255.0</td>\n",
       "      <td>252.0</td>\n",
       "      <td>255.0</td>\n",
       "      <td>255.0</td>\n",
       "      <td>254.0</td>\n",
       "      <td>244.0</td>\n",
       "      <td>244.0</td>\n",
       "      <td>255.0</td>\n",
       "      <td>255.0</td>\n",
       "      <td>243.0</td>\n",
       "      <td>...</td>\n",
       "      <td>253.0</td>\n",
       "      <td>232.0</td>\n",
       "      <td>240.0</td>\n",
       "      <td>242.0</td>\n",
       "      <td>255.0</td>\n",
       "      <td>255.0</td>\n",
       "      <td>255.0</td>\n",
       "      <td>239.0</td>\n",
       "      <td>241.0</td>\n",
       "      <td>2.0</td>\n",
       "    </tr>\n",
       "  </tbody>\n",
       "</table>\n",
       "<p>5 rows × 197 columns</p>\n",
       "</div>"
      ],
      "text/plain": [
       "     0      1      2      3      4      5      6      7      8      9    ...  \\\n",
       "0  253.0  255.0  255.0  251.0  244.0  255.0  254.0  253.0  248.0  255.0  ...   \n",
       "1  248.0  255.0  245.0  255.0  255.0  247.0  255.0  247.0  255.0  236.0  ...   \n",
       "2  255.0  255.0  254.0  255.0  252.0  242.0  255.0  245.0  244.0  255.0  ...   \n",
       "3  255.0  249.0  252.0  248.0  254.0  255.0  246.0  252.0  244.0  255.0  ...   \n",
       "4  255.0  252.0  255.0  255.0  254.0  244.0  244.0  255.0  255.0  243.0  ...   \n",
       "\n",
       "     187    188    189    190    191    192    193    194    195  196  \n",
       "0  255.0  247.0  255.0  255.0  251.0  249.0  255.0  254.0  237.0  1.0  \n",
       "1  252.0  255.0  247.0  240.0  255.0  253.0  240.0  255.0  241.0  1.0  \n",
       "2  255.0  251.0  251.0  255.0  255.0  253.0  251.0  249.0  255.0  1.0  \n",
       "3  255.0  233.0  246.0  252.0  249.0  255.0  254.0  241.0  255.0  1.0  \n",
       "4  253.0  232.0  240.0  242.0  255.0  255.0  255.0  239.0  241.0  2.0  \n",
       "\n",
       "[5 rows x 197 columns]"
      ]
     },
     "execution_count": 11,
     "metadata": {},
     "output_type": "execute_result"
    }
   ],
   "source": [
    "# путь до тестовой выборки\n",
    "path = 'test.csv'\n",
    "\n",
    "# откроем выборку в виде дата-фрейма\n",
    "test_df = pd.read_csv(path, header=None)\n",
    "print('Размер исходной тестовой выборки:', test_df.shape[0])\n",
    "\n",
    "# посмотрим на датафрейм\n",
    "test_df.head()"
   ]
  },
  {
   "cell_type": "code",
   "execution_count": 12,
   "metadata": {},
   "outputs": [
    {
     "name": "stdout",
     "output_type": "stream",
     "text": [
      "Размер преобразованной тестовой выборки: (40, 196)\n",
      "Вид матрицы объектов-признаков:\n",
      "\n",
      "[[253. 255. 255. ... 255. 254. 237.]\n",
      " [248. 255. 245. ... 240. 255. 241.]\n",
      " [255. 255. 254. ... 251. 249. 255.]\n",
      " ...\n",
      " [246. 255. 255. ... 255. 239. 255.]\n",
      " [253. 255. 255. ... 247. 255. 252.]\n",
      " [255. 238. 255. ... 250. 255. 255.]]\n"
     ]
    }
   ],
   "source": [
    "# преобразуем последний столбец к целочисленному типу\n",
    "test_df = test_df.astype({196: int})\n",
    "\n",
    "# удалим записи, отвечающие за лишние буквы\n",
    "for lbl in useless_labels:\n",
    "    test_df.drop(test_df[test_df[196] == lbl].index, inplace=True)\n",
    "    \n",
    "# выделим матрицу объектов-признаков\n",
    "test = np.array(test_df.iloc[:, 0:196])\n",
    "print('Размер преобразованной тестовой выборки:', test.shape)\n",
    "print('Вид матрицы объектов-признаков:', test, sep='\\n\\n')"
   ]
  },
  {
   "cell_type": "code",
   "execution_count": 13,
   "metadata": {},
   "outputs": [
    {
     "name": "stdout",
     "output_type": "stream",
     "text": [
      "Размер целевого вектора тестовой выборки: (40,)\n",
      "Вид вектора целевых меток тестовой выборки:\n",
      "\n",
      "[0 0 0 0 1 1 1 1 2 2 2 2 3 3 3 3 4 4 4 4 5 5 5 5 6 6 6 6 7 7 7 7 8 8 8 8 9\n",
      " 9 9 9]\n"
     ]
    }
   ],
   "source": [
    "# выделим вектор целевых меток\n",
    "test_labels = np.array(test_df.iloc[:, 196])\n",
    "print('Размер целевого вектора тестовой выборки:', test_labels.shape)\n",
    "\n",
    "# перенумеруем метки вектора целевых меток от 0 до 9\n",
    "for i in range(len(test_labels)):\n",
    "    test_labels[i] = lbl_dict[test_labels[i]]\n",
    "print('Вид вектора целевых меток тестовой выборки:', test_labels, sep='\\n\\n')"
   ]
  },
  {
   "cell_type": "code",
   "execution_count": 14,
   "metadata": {},
   "outputs": [
    {
     "name": "stdout",
     "output_type": "stream",
     "text": [
      "Вид преобразованной матрицы объектов-признаков:\n",
      "\n",
      "[[0.00784314 0.         0.         ... 0.         0.00392157 0.07058824]\n",
      " [0.02745098 0.         0.03921569 ... 0.05882353 0.         0.05490196]\n",
      " [0.         0.         0.00392157 ... 0.01568627 0.02352941 0.        ]\n",
      " ...\n",
      " [0.03529412 0.         0.         ... 0.         0.0627451  0.        ]\n",
      " [0.00784314 0.         0.         ... 0.03137255 0.         0.01176471]\n",
      " [0.         0.06666667 0.         ... 0.01960784 0.         0.        ]]\n"
     ]
    }
   ],
   "source": [
    "# преобразуем тестовую выборку\n",
    "test = np.abs((test - 255) / (-255))\n",
    "print('Вид преобразованной матрицы объектов-признаков:', test, sep='\\n\\n')"
   ]
  },
  {
   "cell_type": "markdown",
   "metadata": {},
   "source": [
    "### 1. Обучение алгоритма k-ближайших соседей"
   ]
  },
  {
   "cell_type": "code",
   "execution_count": 15,
   "metadata": {},
   "outputs": [
    {
     "data": {
      "text/plain": [
       "KNeighborsClassifier()"
      ]
     },
     "execution_count": 15,
     "metadata": {},
     "output_type": "execute_result"
    }
   ],
   "source": [
    "# обучение классификатора k-ближайших соседей\n",
    "model = KNeighborsClassifier()\n",
    "model.fit(train, labels)"
   ]
  },
  {
   "cell_type": "markdown",
   "metadata": {},
   "source": [
    "Модель обучена, теперь необходимо оценить её качество, для этого воспользуемся accuracy_score – доля правильных ответов на тестовой выборке."
   ]
  },
  {
   "cell_type": "code",
   "execution_count": 16,
   "metadata": {},
   "outputs": [
    {
     "name": "stdout",
     "output_type": "stream",
     "text": [
      "Доля правильных ответов на обучающей выборке:  0.98\n",
      "Истинные обучающие метки: \n",
      " [0 0 0 0 0 0 0 0 0 0 1 1 1 1 1 1 1 1 1 1 2 2 2 2 2 2 2 2 2 2 3 3 3 3 3 3 3\n",
      " 3 3 3 4 4 4 4 4 4 4 4 4 4 5 5 5 5 5 5 5 5 5 5 6 6 6 6 6 6 6 6 6 6 7 7 7 7\n",
      " 7 7 7 7 7 7 8 8 8 8 8 8 8 8 8 8 9 9 9 9 9 9 9 9 9 9]\n",
      "Предсказанные метки на обучающей выборке: \n",
      " [0 0 0 0 0 0 0 0 0 0 1 1 1 1 1 5 1 1 1 1 2 2 2 2 2 2 2 2 2 2 3 3 3 3 3 3 3\n",
      " 1 3 3 4 4 4 4 4 4 4 4 4 4 5 5 5 5 5 5 5 5 5 5 6 6 6 6 6 6 6 6 6 6 7 7 7 7\n",
      " 7 7 7 7 7 7 8 8 8 8 8 8 8 8 8 8 9 9 9 9 9 9 9 9 9 9]\n"
     ]
    }
   ],
   "source": [
    "train_predicted = model.predict(train)\n",
    "print('Доля правильных ответов на обучающей выборке: ', accuracy_score(labels, train_predicted))\n",
    "print('Истинные обучающие метки: \\n', labels)\n",
    "print('Предсказанные метки на обучающей выборке: \\n', train_predicted)"
   ]
  },
  {
   "cell_type": "code",
   "execution_count": 17,
   "metadata": {},
   "outputs": [
    {
     "name": "stdout",
     "output_type": "stream",
     "text": [
      "Доля правильных ответов на тестовой выборке:  0.925\n",
      "Истинные тестовые метки: \n",
      " [0 0 0 0 1 1 1 1 2 2 2 2 3 3 3 3 4 4 4 4 5 5 5 5 6 6 6 6 7 7 7 7 8 8 8 8 9\n",
      " 9 9 9]\n",
      "Предсказанные метки на тестовой выборке: \n",
      " [0 0 0 0 1 1 1 1 2 2 2 2 3 3 3 2 4 4 2 4 5 5 5 5 6 6 6 8 7 7 7 7 8 8 8 8 9\n",
      " 9 9 9]\n"
     ]
    }
   ],
   "source": [
    "test_predicted = model.predict(test)\n",
    "print('Доля правильных ответов на тестовой выборке: ', accuracy_score(test_labels, test_predicted))\n",
    "print('Истинные тестовые метки: \\n', test_labels)\n",
    "print('Предсказанные метки на тестовой выборке: \\n', test_predicted)"
   ]
  },
  {
   "cell_type": "markdown",
   "metadata": {},
   "source": [
    "Проверим алгоритм для случайно взятого объекта из тестовой выборки."
   ]
  },
  {
   "cell_type": "code",
   "execution_count": 25,
   "metadata": {
    "scrolled": false
   },
   "outputs": [
    {
     "name": "stdout",
     "output_type": "stream",
     "text": [
      "На изображение №19 буква ε:\n"
     ]
    },
    {
     "data": {
      "image/png": "[encoded data removed]",
      "text/plain": [
       "<Figure size 432x288 with 1 Axes>"
      ]
     },
     "metadata": {
      "needs_background": "light"
     },
     "output_type": "display_data"
    }
   ],
   "source": [
    "def show_rand_predict(X):  # X - текущая выборка\n",
    "    r = random.randint(0, X.shape[0] - 1)\n",
    "    print('На изображение №{} буква {}:'.format(r, num2greek[int(model.predict(X[r][np.newaxis, :]))]))\n",
    "    plt.imshow(X[r].reshape(14, 14), cmap='gray')\n",
    "    plt.show()\n",
    "    \n",
    "    \n",
    "show_rand_predict(test)"
   ]
  },
  {
   "cell_type": "markdown",
   "metadata": {},
   "source": [
    "В качестве еще одного критерия качества возьмем матрицу несоответствий и изобразим её графически."
   ]
  },
  {
   "cell_type": "code",
   "execution_count": 26,
   "metadata": {
    "scrolled": true
   },
   "outputs": [
    {
     "name": "stdout",
     "output_type": "stream",
     "text": [
      "Матрица несоответсвий имеет вид: \n",
      "\n",
      "[[4 0 0 0 0 0 0 0 0 0]\n",
      " [0 4 0 0 0 0 0 0 0 0]\n",
      " [0 0 4 0 0 0 0 0 0 0]\n",
      " [0 0 1 3 0 0 0 0 0 0]\n",
      " [0 0 1 0 3 0 0 0 0 0]\n",
      " [0 0 0 0 0 4 0 0 0 0]\n",
      " [0 0 0 0 0 0 3 0 1 0]\n",
      " [0 0 0 0 0 0 0 4 0 0]\n",
      " [0 0 0 0 0 0 0 0 4 0]\n",
      " [0 0 0 0 0 0 0 0 0 4]]\n"
     ]
    }
   ],
   "source": [
    "# матрица несоответствий\n",
    "confusion_mat = confusion_matrix(test_labels, test_predicted)\n",
    "print('Матрица несоответсвий имеет вид: \\n')\n",
    "print(confusion_mat)"
   ]
  },
  {
   "cell_type": "code",
   "execution_count": 27,
   "metadata": {
    "scrolled": false
   },
   "outputs": [
    {
     "data": {
      "image/png": "[encoded data removed]",
      "text/plain": [
       "<Figure size 576x576 with 2 Axes>"
      ]
     },
     "metadata": {
      "needs_background": "light"
     },
     "output_type": "display_data"
    }
   ],
   "source": [
    "# то же самое графически\n",
    "fig = plt.figure(figsize=(8, 8))\n",
    "ax = fig.add_subplot()\n",
    "\n",
    "confusion_mat_colorbar = ax.matshow(confusion_mat)\n",
    "plt.title('Матрица несоответствий', fontsize=20)\n",
    "fig.colorbar(confusion_mat_colorbar)\n",
    "plt.xlabel('Предсказанное', fontsize=20)\n",
    "plt.ylabel('Истинное', fontsize=20)\n",
    "plt.show()"
   ]
  },
  {
   "cell_type": "markdown",
   "metadata": {},
   "source": [
    "### 2. Поиск оптимальных параметров модели по сетке"
   ]
  },
  {
   "cell_type": "markdown",
   "metadata": {},
   "source": [
    "Для поиска оптимальных параметров воспользуемся функцией GridSearchCV, которая перебирает параметры классификатора на кросс-валидации. Отметим, что использовать только обучающую выборку здесь нецелесообразно, так она и так небольшая, а при кросс-валидации будет дробиться на еще более мелкие подвыборки. В этой связи далее будем использовать объединенную обучающую и тестовую выборки."
   ]
  },
  {
   "cell_type": "code",
   "execution_count": 28,
   "metadata": {},
   "outputs": [
    {
     "name": "stdout",
     "output_type": "stream",
     "text": [
      "Размер объединенной матрицы объекты-признаки:  (140, 196)\n",
      "Размер объединенного вектора меток классов:  (140,)\n"
     ]
    }
   ],
   "source": [
    "X = np.vstack((train, test))\n",
    "print('Размер объединенной матрицы объекты-признаки: ', X.shape)\n",
    "y = np.hstack((labels, test_labels))\n",
    "print('Размер объединенного вектора меток классов: ', y.shape)"
   ]
  },
  {
   "cell_type": "code",
   "execution_count": 29,
   "metadata": {},
   "outputs": [],
   "source": [
    "# параметры, подлежащие перебору на сетке\n",
    "params = {\"n_neighbors\": np.arange(1, 11), \n",
    "          \"metric\": [\"euclidean\", \"manhattan\", \"chebyshev\"],\n",
    "          \"weights\": [\"uniform\", \"distance\"]}\n",
    "grid_cv = GridSearchCV(model, params, scoring='accuracy')"
   ]
  },
  {
   "cell_type": "code",
   "execution_count": 30,
   "metadata": {},
   "outputs": [
    {
     "data": {
      "text/plain": [
       "GridSearchCV(estimator=KNeighborsClassifier(),\n",
       "             param_grid={'metric': ['euclidean', 'manhattan', 'chebyshev'],\n",
       "                         'n_neighbors': array([ 1,  2,  3,  4,  5,  6,  7,  8,  9, 10]),\n",
       "                         'weights': ['uniform', 'distance']},\n",
       "             scoring='accuracy')"
      ]
     },
     "execution_count": 30,
     "metadata": {},
     "output_type": "execute_result"
    }
   ],
   "source": [
    "# поиск оптимальных параметров\n",
    "grid_cv.fit(X, y)"
   ]
  },
  {
   "cell_type": "code",
   "execution_count": 31,
   "metadata": {},
   "outputs": [
    {
     "name": "stdout",
     "output_type": "stream",
     "text": [
      "Доля правильных ответов:  0.95\n",
      "Оптимальные параметры классификатора:\n",
      " {'metric': 'euclidean', 'n_neighbors': 3, 'weights': 'uniform'}\n"
     ]
    }
   ],
   "source": [
    "# оптимальные параметры и лучший результат\n",
    "print('Доля правильных ответов: ', grid_cv.best_score_)\n",
    "print('Оптимальные параметры классификатора:\\n', grid_cv.best_params_)"
   ]
  },
  {
   "cell_type": "markdown",
   "metadata": {},
   "source": [
    "Проанализируем результат на матрице несоответствий."
   ]
  },
  {
   "cell_type": "code",
   "execution_count": 32,
   "metadata": {
    "scrolled": true
   },
   "outputs": [
    {
     "name": "stdout",
     "output_type": "stream",
     "text": [
      "Матрица несоответсвий имеет вид: \n",
      "\n",
      "[[14  0  0  0  0  0  0  0  0  0]\n",
      " [ 0 13  1  0  0  0  0  0  0  0]\n",
      " [ 0  0 14  0  0  0  0  0  0  0]\n",
      " [ 0  0  0 14  0  0  0  0  0  0]\n",
      " [ 0  0  0  0 14  0  0  0  0  0]\n",
      " [ 0  0  0  0  0 14  0  0  0  0]\n",
      " [ 0  0  0  0  0  0 14  0  0  0]\n",
      " [ 0  0  0  0  0  0  0 14  0  0]\n",
      " [ 0  0  0  0  0  0  1  0 13  0]\n",
      " [ 0  0  0  0  0  0  0  0  0 14]]\n"
     ]
    }
   ],
   "source": [
    "# матрица несоответствий\n",
    "y_predicted = grid_cv.best_estimator_.predict(X)\n",
    "confusion_mat = confusion_matrix(y, y_predicted)\n",
    "print('Матрица несоответсвий имеет вид: \\n')\n",
    "print(confusion_mat)"
   ]
  },
  {
   "cell_type": "code",
   "execution_count": 33,
   "metadata": {
    "scrolled": false
   },
   "outputs": [
    {
     "data": {
      "image/png": "[encoded data removed]",
      "text/plain": [
       "<Figure size 576x576 with 2 Axes>"
      ]
     },
     "metadata": {
      "needs_background": "light"
     },
     "output_type": "display_data"
    }
   ],
   "source": [
    "# то же самое графически\n",
    "fig = plt.figure(figsize=(8, 8))\n",
    "ax = fig.add_subplot()\n",
    "\n",
    "confusion_mat_colorbar = ax.matshow(confusion_mat)\n",
    "plt.title('Матрица несоответствий', fontsize=20)\n",
    "fig.colorbar(confusion_mat_colorbar)\n",
    "plt.xlabel('Предсказанное', fontsize=20)\n",
    "plt.ylabel('Истинное', fontsize=20)\n",
    "plt.show()"
   ]
  },
  {
   "cell_type": "markdown",
   "metadata": {},
   "source": [
    "### Обработка входных данных (изображений)"
   ]
  },
  {
   "cell_type": "code",
   "execution_count": 34,
   "metadata": {},
   "outputs": [],
   "source": [
    "import skimage  # библиотека работы с изображениями\n",
    "import skimage.transform  # модуль для преобразования изображений\n",
    "import skimage.io  # input-out\n",
    "\n",
    "import os  # библиотека работы с операционной системой\n",
    "from natsort import natsorted # библиотека с функциями сортировки строк, содержащих числа"
   ]
  },
  {
   "cell_type": "code",
   "execution_count": 35,
   "metadata": {},
   "outputs": [
    {
     "name": "stdout",
     "output_type": "stream",
     "text": [
      "Загружены следующие файлы:\n",
      "\n",
      "0_alpha.jpg\n",
      "1_beta.jpg\n",
      "2_gamma.jpg\n",
      "3_delta.jpg\n",
      "4_epsilon.jpg\n",
      "5_theta.jpg\n",
      "6_kappa.jpg\n",
      "7_ro.jpg\n",
      "8_hi.jpg\n",
      "9_omega.jpg\n"
     ]
    }
   ],
   "source": [
    "# директория датасета\n",
    "files_dir = 'my_test_1'\n",
    "\n",
    "files_list = os.listdir(files_dir)\n",
    "image_list = []\n",
    "for filename in files_list:\n",
    "    image_list.append(skimage.io.imread(files_dir + '/' + filename))\n",
    "\n",
    "print('Загружены следующие файлы:\\n', *files_list, sep='\\n')"
   ]
  },
  {
   "cell_type": "code",
   "execution_count": 36,
   "metadata": {
    "scrolled": true
   },
   "outputs": [
    {
     "data": {
      "image/png": "[encoded data removed]",
      "text/plain": [
       "<Figure size 1080x864 with 12 Axes>"
      ]
     },
     "metadata": {
      "needs_background": "light"
     },
     "output_type": "display_data"
    }
   ],
   "source": [
    "len_axes = (len(image_list) - 1) // 4 + 1\n",
    "fig, axes = plt.subplots(nrows=len_axes, ncols=4, figsize=(15, 4 * len_axes))\n",
    "\n",
    "# здесь храним предсказанные значения\n",
    "predicted_greek = []\n",
    "\n",
    "for i, img in enumerate(image_list):\n",
    "    img_0 = img  # получаем исходное цветное изображение\n",
    "    img_1 = skimage.color.rgb2gray(img_0)  # преобразуем к чб фото\n",
    "    img_2 = skimage.transform.resize(img_1, (14, 14), anti_aliasing=True)  # приводим к разрешению 14 на 14\n",
    "    img_3 = np.abs(img_2 - 1)  # инвертируем цвета\n",
    "\n",
    "    # предсказываем букву\n",
    "    pred = grid_cv.best_estimator_.predict(img_3.reshape((1, 196)))\n",
    "    predicted_greek.append(int(pred))\n",
    "    \n",
    "    # рисуем буковку и пишем предсказание\n",
    "    axes[i // 4, i % 4].imshow(img_3, cmap='gray')\n",
    "    axes[i // 4, i % 4].set_title(str(num2greek[int(pred)]))"
   ]
  },
  {
   "cell_type": "code",
   "execution_count": null,
   "metadata": {},
   "outputs": [],
   "source": []
  }
 ],
 "metadata": {
  "kernelspec": {
   "display_name": "Python 3",
   "language": "python",
   "name": "python3"
  },
  "language_info": {
   "codemirror_mode": {
    "name": "ipython",
    "version": 3
   },
   "file_extension": ".py",
   "mimetype": "text/x-python",
   "name": "python",
   "nbconvert_exporter": "python",
   "pygments_lexer": "ipython3",
   "version": "3.8.5"
  }
 },
 "nbformat": 4,
 "nbformat_minor": 2
}
